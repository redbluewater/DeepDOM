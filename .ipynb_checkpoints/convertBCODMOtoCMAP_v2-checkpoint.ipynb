{
 "cells": [
  {
   "cell_type": "markdown",
   "id": "a9efb115-054a-4922-9312-dba2564fd872",
   "metadata": {
    "id": "a9efb115-054a-4922-9312-dba2564fd872"
   },
   "source": [
    "# convertBCODMOtoCMAP\n",
    "Krista Longnecker, 7 August 2025\\\n",
    "Run this after running ```getBCODMOinfo.ipynb```\\\n",
    "This script will make the format required by CMAP using a script called ```convert.py```.\\\n",
    "Also note that you end up running through this twice in order to get all the metadata needed for the _variables_. There are too many details needed by CMAP to automate that step.\\"
   ]
  },
  {
   "cell_type": "code",
   "execution_count": 23,
   "id": "6edb5289-064f-42ff-a807-68dcc169a7b6",
   "metadata": {
    "id": "6edb5289-064f-42ff-a807-68dcc169a7b6",
    "scrolled": true
   },
   "outputs": [],
   "source": [
    "#Bring in the libaries\n",
    "import pandas as pd\n",
    "import requests\n",
    "import os\n",
    "import json\n",
    "import re\n",
    "import pdb\n",
    "\n",
    "from datetime import datetime, timedelta, timezone, date\n",
    "from SPARQLWrapper import SPARQLWrapper, POST, JSON\n",
    "from frictionless import describe, Package"
   ]
  },
  {
   "cell_type": "code",
   "execution_count": 24,
   "id": "b8e537cf-1082-4559-9320-12a8bddb03bb",
   "metadata": {
    "id": "b8e537cf-1082-4559-9320-12a8bddb03bb"
   },
   "outputs": [],
   "source": [
    "# Make a function that searches for bcodmo:name and returns bcodmo:description and bcodmo:units\n",
    "# input: md --> the list of parameters for one dataset\n",
    "def getDetails(md,bcodmo_name):\n",
    "    \"\"\"\n",
    "    Take the list of information from BCO-DMO, search for a name, and return the description and units for that name\n",
    "    \"\"\"\n",
    "    for i, item in enumerate(md):\n",
    "        if item['bcodmo:name'] == bcodmo_name:\n",
    "            #actually want the descrption, so return that\n",
    "            description = item['bcodmo:description']\n",
    "            if 'bcodmo:units' in item:\n",
    "                units = item['bcodmo:units']\n",
    "            else:\n",
    "                units = 'not applicable'\n",
    "            #print(units)\n",
    "\n",
    "    return description, units"
   ]
  },
  {
   "cell_type": "code",
   "execution_count": 25,
   "id": "1e80f732-6ba1-48d9-a7e4-741cabbe836a",
   "metadata": {},
   "outputs": [
    {
     "name": "stdout",
     "output_type": "stream",
     "text": [
      "Found Excel file with metadata\n"
     ]
    }
   ],
   "source": [
    "#Check that an Excel file exists for the variable metadata:\n",
    "if os.path.exists('CMAP_variableMetadata_additions.xlsx'):\n",
    "    print('Found Excel file with metadata')\n",
    "else:\n",
    "    #You cannot proceed without the file, so stop the script if it's not found\n",
    "    print(f\"No Excel file with metadata found\")\n",
    "    sys.exit(1)    "
   ]
  },
  {
   "cell_type": "code",
   "execution_count": 26,
   "id": "7b33016a-3190-4863-964f-8a9976672387",
   "metadata": {
    "id": "7b33016a-3190-4863-964f-8a9976672387"
   },
   "outputs": [],
   "source": [
    "#read in the package that was already made (using getBCODMOinfo.ipynb)\n",
    "oneProject = Package('datapackage.json')"
   ]
  },
  {
   "cell_type": "code",
   "execution_count": 27,
   "id": "b2129d21-538d-4711-9138-fe776f1946f0",
   "metadata": {},
   "outputs": [
    {
     "data": {
      "text/plain": [
       "['event_log',\n",
       " 'nutrients',\n",
       " 'ctd',\n",
       " 'viral_bact_counts',\n",
       " 'metabolites_dissolved',\n",
       " 'metabolites_particulate',\n",
       " 'tos',\n",
       " 'deepdom_sample_metadata_for_opp']"
      ]
     },
     "execution_count": 27,
     "metadata": {},
     "output_type": "execute_result"
    }
   ],
   "source": [
    "out = [];\n",
    "for idx,item in enumerate(oneProject.resources):\n",
    "    justFile = item.name;\n",
    "    out.append(justFile)\n",
    "\n",
    "out #this will be a list, leave here so I see the filenames"
   ]
  },
  {
   "cell_type": "code",
   "execution_count": 28,
   "id": "290f079f-d586-4d7a-af6f-4188e08b5d7a",
   "metadata": {},
   "outputs": [],
   "source": [
    "#do the event log first as I will need that for other samples (probably some at BCO-DMO and definitely the MTBLS1752 dataset at MetaboLights)\n",
    "\n",
    "idx_json = 0\n",
    "#to do: figure out a better way to do this so I am not reading in the json file every time\n",
    "biosscope = Package('datapackage.json')\n",
    "\n",
    "data_url = biosscope.resources[idx_json].path\n",
    "md = biosscope.resources[idx_json].custom['bcodmo:parameters'] #this is a list, don't forget 'custom' (!!)\n",
    "\n",
    "#make a short name out of the data_url, will use this as part of the name for the final Excel file \n",
    "exportFile = re.split('/',data_url).pop().replace('.csv','')\n",
    "\n",
    "#super easy to work with the CSV file once I have the URL\n",
    "eventLog = pd.read_csv(data_url,na_values = ['nd']) #now I have NaN...but they get dropped when writing the file\n",
    "    \n",
    "# Don't need to submit the event log to CMAP, just use it for merging to other datastreams.\n",
    "# need zfill to get a four digit time, otherwise this will fail, here the format is what the numbers are in (not what I want)\n",
    "eventLog['date_column'] = pd.to_datetime(eventLog['date_utc'].apply(str) + ' ' + eventLog['time_utc'].apply(str).str.zfill(4), format=\"%Y%m%d %H%M\")\n",
    "eventLog['time_cmap'] = eventLog['date_column'].dt.strftime(\"%Y-%m-%dT%H:%M:%S\")\n",
    "\n",
    "##later realized that the MetaboLights data are also at BCO-DMO, so I don't have to mess around with MetaboLights"
   ]
  },
  {
   "cell_type": "markdown",
   "id": "4fcdfaa2-c137-4c64-b851-9fc5fd2470d9",
   "metadata": {
    "id": "4fcdfaa2-c137-4c64-b851-9fc5fd2470d9"
   },
   "source": [
    "# Work though all of the data files"
   ]
  },
  {
   "cell_type": "code",
   "execution_count": 29,
   "id": "460fcad7-34eb-4f5a-b1ae-64e42cdac7fd",
   "metadata": {},
   "outputs": [],
   "source": [
    "#two options for DeepDOM: run the script or skip the file\n",
    "toSkip = {'deepdom_sample_metadata_for_opp','event_log'} #not ready \n",
    "discreteData = {'nutrients','viral_bact_counts','CTD','metabolites_dissolved','metabolites_particulate','TOS'};"
   ]
  },
  {
   "cell_type": "code",
   "execution_count": 30,
   "id": "df2291f9-c544-4475-b553-edaff47f8989",
   "metadata": {
    "scrolled": true
   },
   "outputs": [
    {
     "name": "stdout",
     "output_type": "stream",
     "text": [
      "skip event_log\n",
      "Data here: d:\\dropbox\\github_niskin\\DeepDOM\\data\\nutrients\n",
      "Data here: d:\\dropbox\\github_niskin\\DeepDOM\\data\\CTD\n",
      "Data here: d:\\dropbox\\github_niskin\\DeepDOM\\data\\viral_bact_counts\n",
      "Data here: d:\\dropbox\\github_niskin\\DeepDOM\\data\\metabolites_dissolved\n",
      "Data here: d:\\dropbox\\github_niskin\\DeepDOM\\data\\metabolites_particulate\n",
      "Data here: d:\\dropbox\\github_niskin\\DeepDOM\\data\\TOS\n",
      "skip deepdom_sample_metadata_for_opp\n"
     ]
    }
   ],
   "source": [
    "for idx in range(len(oneProject.resources)):\n",
    "    data_url = oneProject.resources[idx].path\n",
    "    if data_url.endswith('.csv'):\n",
    "        checkFile = re.split('/',data_url).pop().replace('.csv','')\n",
    "        #look for a match, a file to skip, or an error:\n",
    "        if checkFile in toSkip:\n",
    "            print('skip ' + checkFile)  \n",
    "        elif checkFile in discreteData:\n",
    "            %run convert.py {idx}   \n",
    "        else:\n",
    "            print('no match ' + checkFile)\n",
    "\n"
   ]
  },
  {
   "cell_type": "code",
   "execution_count": 114,
   "id": "b8984808-f5b3-4cfa-ab47-ed5b68a0e95a",
   "metadata": {},
   "outputs": [],
   "source": [
    "#I could not get this to work, but the online option is great (though files get submitted one at a time)\n",
    "## %run SimonsCMAP_QCAPI.py"
   ]
  },
  {
   "cell_type": "code",
   "execution_count": null,
   "id": "cf404ae2",
   "metadata": {},
   "outputs": [],
   "source": []
  },
  {
   "cell_type": "code",
   "execution_count": 13,
   "id": "6735e48b",
   "metadata": {},
   "outputs": [],
   "source": [
    "#figure out best way to shorten the var_unit that is too long\n",
    "idx_json = 2\n",
    "biosscope = Package('datapackage.json')\n",
    "data_url = biosscope.resources[idx_json].path\n",
    "md = biosscope.resources[idx_json].custom['bcodmo:parameters'] #this is a list, don't forget 'custom' (!!)\n",
    "\n",
    "#make a short name out of the data_url, will use this as part of the name for the final Excel file \n",
    "exportFile = re.split('/',data_url).pop().replace('.csv','')\n",
    "\n",
    "#super easy to work with the CSV file once I have the URL\n",
    "bcodmo = pd.read_csv(data_url,na_values = ['nd']) #now I have NaN...but they get dropped when writing the file\n",
    "\n",
    "# Required variables are time, lat, lon, depth\n",
    "df = pd.DataFrame(columns=['time','lat','lon','depth'])\n",
    "\n",
    "# time --> CMAP requirement is this: #< Format  %Y-%m-%dT%H:%M:%S,  Time-Zone:  UTC,  example: 2014-02-28T14:25:55 >\n",
    "temp = bcodmo.copy()\n",
    "\n",
    "#In the TOS data, multiple variables have different labels :( \n",
    "if exportFile == 'TOS':\n",
    "    useDate = 'date_utc_YYYYMMDD_start'\n",
    "    useTime = 'time_utc_HHMM_start'\n",
    "    useDepth = 'depth_m'\n",
    "else:\n",
    "    useDate = 'date_start_utc'\n",
    "    useTime = 'time_start_utc'\n",
    "    useDepth = 'depth'\n",
    "\n",
    "temp['date'] = pd.to_datetime(temp[useDate].apply(str) + ' ' + temp[useTime].apply(str).str.zfill(4), format=\"%Y%m%d %H%M\")\n",
    "temp['date_cmap'] = temp['date'].dt.strftime(\"%Y-%m-%dT%H:%M:%S\" + \"+00:00\") #update to add 0 offset from UTC\n",
    "df['time'] = temp['date_cmap']\n",
    "\n",
    "# lat (-90 to 90) and lon (-180 to 180); \n",
    "df['lat'] = bcodmo['lat_start']\n",
    "df['lon'] = bcodmo['lon_start']  #BCO-DMO already has this as negative\n",
    "df['depth'] = bcodmo[useDepth]\n",
    "\n",
    "# all remaining columns in bcodmo can be considered data\n",
    "#remember: bcodmo_trim will have the list of variables that I will use later to get metadata about the variables\n",
    "bcodmo_trim = bcodmo.drop(columns=['lat_start', 'lon_start', useDepth])\n",
    "nVariables = bcodmo_trim.shape[1] #remember in Python indexing starts with 0 (rows, 1 is the columns)\n",
    "# and then add to the datafile I am assembling\n",
    "df = pd.concat([df, bcodmo_trim], axis=1)\n",
    "\n",
    "# work on the second sheet: metadata about the variables; \n",
    "# use the CMAP dataset template to setup the dataframe so I get the column headers right\n",
    "templateName = 'datasetTemplate.xlsx'\n",
    "sheet_name = 'vars_meta_data'\n",
    "vars = pd.read_excel(templateName, sheet_name=sheet_name)\n",
    "metaVarColumns = vars.columns.tolist()\n",
    "#df2 will be the dataframe with the metadata about the variables, set it up empty here\n",
    "df2 = pd.DataFrame(columns=metaVarColumns,index = pd.RangeIndex(start=0,stop=nVariables)) #remember, Python is 0 indexed\n",
    "\n",
    "#the variables I need to search for are here: bcodmo_trim.columns, put them in the first column\n",
    "df2['var_short_name'] = bcodmo_trim.columns\n",
    "    "
   ]
  },
  {
   "cell_type": "code",
   "execution_count": null,
   "id": "03a7d586",
   "metadata": {},
   "outputs": [],
   "source": []
  },
  {
   "cell_type": "code",
   "execution_count": 11,
   "id": "f3936439",
   "metadata": {},
   "outputs": [
    {
     "data": {
      "text/plain": [
       "[{'bcodmo:name': 'cast',\n",
       "  'bcodmo:description': '<p>Consecutive cast number for the instrument.</p>',\n",
       "  'bcodmo:units': 'dimensionless'},\n",
       " {'bcodmo:name': 'station',\n",
       "  'bcodmo:description': '<p>Identification number of the sampling station.</p>',\n",
       "  'bcodmo:units': 'dimensionless'},\n",
       " {'bcodmo:name': 'date_start_utc',\n",
       "  'bcodmo:description': '<p>Date (UTC) given as 4-digit year -- 2-digit month -- 2-digit day in&nbsp;YYYYmmdd format.</p>',\n",
       "  'bcodmo:units': 'unitless'},\n",
       " {'bcodmo:name': 'time_start_utc',\n",
       "  'bcodmo:description': '<p>Time (UTC) given as hour -- minute.</p>',\n",
       "  'bcodmo:units': 'HHMM'},\n",
       " {'bcodmo:name': 'event_start',\n",
       "  'bcodmo:description': '<p>The event number from the ELOG maintained during the cruise.</p>',\n",
       "  'bcodmo:units': 'dimensionless'},\n",
       " {'bcodmo:name': 'lat_start',\n",
       "  'bcodmo:description': '<p>Latitude at the time the event started (from the cruise event log).</p>',\n",
       "  'bcodmo:units': 'decimal degrees'},\n",
       " {'bcodmo:name': 'lon_start',\n",
       "  'bcodmo:description': '<p>Longitude at the time the event started (from the cruise event log).</p>',\n",
       "  'bcodmo:units': 'decimal degrees'},\n",
       " {'bcodmo:name': 'depth',\n",
       "  'bcodmo:description': \"<p>Depth. (Orignally called 'depSM'.)</p>\",\n",
       "  'bcodmo:units': 'meters'},\n",
       " {'bcodmo:name': 'press',\n",
       "  'bcodmo:description': \"<p>Pressure. (Originally called 'prDM'.)</p>\",\n",
       "  'bcodmo:units': 'decibars (db)'},\n",
       " {'bcodmo:name': 'temp',\n",
       "  'bcodmo:description': \"Temperature from primary sensor on CTD. (Originally called 't090C'.)\",\n",
       "  'bcodmo:units': 'degrees Celsius (ITS-90)'},\n",
       " {'bcodmo:name': 'temp2',\n",
       "  'bcodmo:description': \"Temperature from secondary sensor on CTD. (Originally called 't190C'.).\",\n",
       "  'bcodmo:units': 'degrees Celsius (ITS-90)'},\n",
       " {'bcodmo:name': 'sal',\n",
       "  'bcodmo:description': \"Salinity from primary sensor on CTD. (Originally called 'sal00'.)\",\n",
       "  'bcodmo:units': 'Practical Salinity Units (PSU)'},\n",
       " {'bcodmo:name': 'sal2',\n",
       "  'bcodmo:description': \"Salinity from secondary sensor on CTD. (Originally called 'sal11'.)\",\n",
       "  'bcodmo:units': 'Practical Salinity Units (PSU)'},\n",
       " {'bcodmo:name': 'O2_mL_L',\n",
       "  'bcodmo:description': 'Oxygen from SBE43.',\n",
       "  'bcodmo:units': 'milliliters per liter (mL/L)'},\n",
       " {'bcodmo:name': 'density',\n",
       "  'bcodmo:description': \"Density from primary sensor on CTD. (Originally called 'density00'.)\",\n",
       "  'bcodmo:units': 'kilograms per cubic meter (kg/m^3)'},\n",
       " {'bcodmo:name': 'density2',\n",
       "  'bcodmo:description': \"Density from secondary sensor on CTD. (Originally called 'density11'.)\",\n",
       "  'bcodmo:units': 'kilograms per cubic meter (kg/m^3)'},\n",
       " {'bcodmo:name': 'latitude',\n",
       "  'bcodmo:description': '<p>Latitude.</p>',\n",
       "  'bcodmo:units': 'decimal degrees'},\n",
       " {'bcodmo:name': 'longitude',\n",
       "  'bcodmo:description': '<p>Longitude.</p>',\n",
       "  'bcodmo:units': 'decimal degrees'},\n",
       " {'bcodmo:name': 'fluor',\n",
       "  'bcodmo:description': \"Fluorescence from WET Labs ECO-AFL/FL. (Originally called 'flECO_AFL'.)\",\n",
       "  'bcodmo:units': 'milligrams per cubic meter (mg/m^3)'},\n",
       " {'bcodmo:name': 'trans',\n",
       "  'bcodmo:description': \"Beam transmission from WET Labs C-Star. (Originally called 'CStarTr0'.)\",\n",
       "  'bcodmo:units': 'percent (%)'},\n",
       " {'bcodmo:name': 'turbidity',\n",
       "  'bcodmo:description': \"Turbidity from WET Labs ECO. (Originally called 'tubWETntu0'.)\",\n",
       "  'bcodmo:units': 'Nephelometric Turbidity Units (NTU)'},\n",
       " {'bcodmo:name': 'par',\n",
       "  'bcodmo:description': '<p>PAR / irradiance from Biospherical/Licor.</p>',\n",
       "  'bcodmo:units': 'microEinsteins per square meter per second (μE/m2-sec)'},\n",
       " {'bcodmo:name': 'spar',\n",
       "  'bcodmo:description': '<p>SPAR / surface irradiance.</p>',\n",
       "  'bcodmo:units': 'microEinsteins per square meter per second (μE/m2-sec)'},\n",
       " {'bcodmo:name': 'sound_vel',\n",
       "  'bcodmo:description': \"Sound velociy. (Originally called 'svCM1'.)\",\n",
       "  'bcodmo:units': 'meters per second (m/s) (Chen-Millero)'},\n",
       " {'bcodmo:name': 'flag',\n",
       "  'bcodmo:description': '<p>Data quality flag.</p>',\n",
       "  'bcodmo:units': 'dimensionless'}]"
      ]
     },
     "execution_count": 11,
     "metadata": {},
     "output_type": "execute_result"
    }
   ],
   "source": [
    "md"
   ]
  },
  {
   "cell_type": "code",
   "execution_count": 17,
   "id": "e56899af",
   "metadata": {},
   "outputs": [],
   "source": [
    "idx = 19\n",
    "a,b = getDetails(md,df2.loc[idx,'var_short_name']) #getDetails is the function I wrote (see above)\n"
   ]
  },
  {
   "cell_type": "code",
   "execution_count": 18,
   "id": "8c8a8fc3",
   "metadata": {},
   "outputs": [
    {
     "data": {
      "text/plain": [
       "'<p>SPAR / surface irradiance.</p>'"
      ]
     },
     "execution_count": 18,
     "metadata": {},
     "output_type": "execute_result"
    }
   ],
   "source": [
    "a\n"
   ]
  },
  {
   "cell_type": "code",
   "execution_count": 19,
   "id": "5d69a050",
   "metadata": {},
   "outputs": [
    {
     "data": {
      "text/plain": [
       "'microEinsteins per square meter per second (μE/m2-sec)'"
      ]
     },
     "execution_count": 19,
     "metadata": {},
     "output_type": "execute_result"
    }
   ],
   "source": [
    "b"
   ]
  },
  {
   "cell_type": "code",
   "execution_count": 22,
   "id": "e9254134",
   "metadata": {},
   "outputs": [
    {
     "data": {
      "text/plain": [
       "'microEinsteins per square meter per sec(μE/m2-sec)'"
      ]
     },
     "execution_count": 22,
     "metadata": {},
     "output_type": "execute_result"
    }
   ],
   "source": [
    "if b == 'microEinsteins per square meter per second (μE/m2-sec)':\n",
    "    b = 'microEinsteins per square meter per sec(μE/m2-sec)'\n",
    "\n",
    "b"
   ]
  },
  {
   "cell_type": "code",
   "execution_count": null,
   "id": "6ff6cc67",
   "metadata": {},
   "outputs": [],
   "source": []
  },
  {
   "cell_type": "code",
   "execution_count": null,
   "id": "e37f96b5",
   "metadata": {},
   "outputs": [],
   "source": []
  }
 ],
 "metadata": {
  "colab": {
   "provenance": []
  },
  "kernelspec": {
   "display_name": "Python 3 (ipykernel)",
   "language": "python",
   "name": "python3"
  },
  "language_info": {
   "codemirror_mode": {
    "name": "ipython",
    "version": 3
   },
   "file_extension": ".py",
   "mimetype": "text/x-python",
   "name": "python",
   "nbconvert_exporter": "python",
   "pygments_lexer": "ipython3",
   "version": "3.9.13"
  }
 },
 "nbformat": 4,
 "nbformat_minor": 5
}
