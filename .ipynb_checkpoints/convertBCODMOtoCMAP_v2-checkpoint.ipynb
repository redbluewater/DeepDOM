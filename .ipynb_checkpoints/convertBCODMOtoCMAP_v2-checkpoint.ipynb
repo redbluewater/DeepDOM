{
 "cells": [
  {
   "cell_type": "markdown",
   "id": "a9efb115-054a-4922-9312-dba2564fd872",
   "metadata": {
    "id": "a9efb115-054a-4922-9312-dba2564fd872"
   },
   "source": [
    "# convertBCODMOtoCMAP\n",
    "Krista Longnecker, 7 August 2025\\\n",
    "Run this after running ```getBCODMOinfo.ipynb```\\\n",
    "This script will make the format required by CMAP using a script called ```convert.py```.\\\n",
    "Also note that you end up running through this twice in order to get all the metadata needed for the _variables_. There are too many details needed by CMAP to automate that step.\\"
   ]
  },
  {
   "cell_type": "code",
   "execution_count": 106,
   "id": "6edb5289-064f-42ff-a807-68dcc169a7b6",
   "metadata": {
    "id": "6edb5289-064f-42ff-a807-68dcc169a7b6",
    "scrolled": true
   },
   "outputs": [],
   "source": [
    "#Bring in the libaries\n",
    "import pandas as pd\n",
    "import requests\n",
    "import os\n",
    "import json\n",
    "import re\n",
    "import pdb\n",
    "\n",
    "from datetime import datetime, timedelta, timezone, date\n",
    "from SPARQLWrapper import SPARQLWrapper, POST, JSON\n",
    "from frictionless import describe, Package"
   ]
  },
  {
   "cell_type": "code",
   "execution_count": 107,
   "id": "b8e537cf-1082-4559-9320-12a8bddb03bb",
   "metadata": {
    "id": "b8e537cf-1082-4559-9320-12a8bddb03bb"
   },
   "outputs": [],
   "source": [
    "# Make a function that searches for bcodmo:name and returns bcodmo:description and bcodmo:units\n",
    "# input: md --> the list of parameters for one dataset\n",
    "def getDetails(md,bcodmo_name):\n",
    "    \"\"\"\n",
    "    Take the list of information from BCO-DMO, search for a name, and return the description and units for that name\n",
    "    \"\"\"\n",
    "    for i, item in enumerate(md):\n",
    "        if item['bcodmo:name'] == bcodmo_name:\n",
    "            #actually want the descrption, so return that\n",
    "            description = item['bcodmo:description']\n",
    "            if 'bcodmo:units' in item:\n",
    "                units = item['bcodmo:units']\n",
    "            else:\n",
    "                units = 'not applicable'\n",
    "            #print(units)\n",
    "\n",
    "    return description, units"
   ]
  },
  {
   "cell_type": "code",
   "execution_count": 108,
   "id": "1e80f732-6ba1-48d9-a7e4-741cabbe836a",
   "metadata": {},
   "outputs": [
    {
     "name": "stdout",
     "output_type": "stream",
     "text": [
      "Found Excel file with metadata\n"
     ]
    }
   ],
   "source": [
    "#Check that an Excel file exists for the variable metadata:\n",
    "if os.path.exists('CMAP_variableMetadata_additions.xlsx'):\n",
    "    print('Found Excel file with metadata')\n",
    "else:\n",
    "    #You cannot proceed without the file, so stop the script if it's not found\n",
    "    print(f\"No Excel file with metadata found\")\n",
    "    sys.exit(1)    "
   ]
  },
  {
   "cell_type": "code",
   "execution_count": 109,
   "id": "7b33016a-3190-4863-964f-8a9976672387",
   "metadata": {
    "id": "7b33016a-3190-4863-964f-8a9976672387"
   },
   "outputs": [],
   "source": [
    "#read in the package that was already made (using getBCODMOinfo.ipynb)\n",
    "oneProject = Package('datapackage.json')"
   ]
  },
  {
   "cell_type": "code",
   "execution_count": 110,
   "id": "b2129d21-538d-4711-9138-fe776f1946f0",
   "metadata": {},
   "outputs": [
    {
     "data": {
      "text/plain": [
       "['event_log',\n",
       " 'nutrients',\n",
       " 'ctd',\n",
       " 'viral_bact_counts',\n",
       " 'metabolites_dissolved',\n",
       " 'metabolites_particulate',\n",
       " 'tos',\n",
       " 'deepdom_sample_metadata_for_opp']"
      ]
     },
     "execution_count": 110,
     "metadata": {},
     "output_type": "execute_result"
    }
   ],
   "source": [
    "out = [];\n",
    "for idx,item in enumerate(oneProject.resources):\n",
    "    justFile = item.name;\n",
    "    out.append(justFile)\n",
    "\n",
    "out #this will be a list, leave here so I see the filenames"
   ]
  },
  {
   "cell_type": "code",
   "execution_count": 111,
   "id": "290f079f-d586-4d7a-af6f-4188e08b5d7a",
   "metadata": {},
   "outputs": [],
   "source": [
    "#do the event log first as I will need that for other samples (probably some at BCO-DMO and definitely the MTBLS1752 dataset at MetaboLights)\n",
    "\n",
    "idx_json = 0\n",
    "#to do: figure out a better way to do this so I am not reading in the json file every time\n",
    "biosscope = Package('datapackage.json')\n",
    "\n",
    "data_url = biosscope.resources[idx_json].path\n",
    "md = biosscope.resources[idx_json].custom['bcodmo:parameters'] #this is a list, don't forget 'custom' (!!)\n",
    "\n",
    "#make a short name out of the data_url, will use this as part of the name for the final Excel file \n",
    "exportFile = re.split('/',data_url).pop().replace('.csv','')\n",
    "\n",
    "#super easy to work with the CSV file once I have the URL\n",
    "eventLog = pd.read_csv(data_url,na_values = ['nd']) #now I have NaN...but they get dropped when writing the file\n",
    "    \n",
    "# Don't need to submit the event log to CMAP, just use it for merging to other datastreams.\n",
    "# need zfill to get a four digit time, otherwise this will fail, here the format is what the numbers are in (not what I want)\n",
    "eventLog['date_column'] = pd.to_datetime(eventLog['date_utc'].apply(str) + ' ' + eventLog['time_utc'].apply(str).str.zfill(4), format=\"%Y%m%d %H%M\")\n",
    "eventLog['time_cmap'] = eventLog['date_column'].dt.strftime(\"%Y-%m-%dT%H:%M:%S\")\n",
    "\n",
    "##later realized that the MetaboLights data are also at BCO-DMO, so I don't have to mess around with MetaboLights"
   ]
  },
  {
   "cell_type": "markdown",
   "id": "4fcdfaa2-c137-4c64-b851-9fc5fd2470d9",
   "metadata": {
    "id": "4fcdfaa2-c137-4c64-b851-9fc5fd2470d9"
   },
   "source": [
    "# Work though all of the data files"
   ]
  },
  {
   "cell_type": "code",
   "execution_count": 112,
   "id": "460fcad7-34eb-4f5a-b1ae-64e42cdac7fd",
   "metadata": {},
   "outputs": [],
   "source": [
    "#two options for DeepDOM: run the script or skip the file\n",
    "toSkip = {'deepdom_sample_metadata_for_opp','event_log'} #not ready \n",
    "discreteData = {'nutrients','viral_bact_counts','CTD','metabolites_dissolved','metabolites_particulate','TOS'};"
   ]
  },
  {
   "cell_type": "code",
   "execution_count": 113,
   "id": "df2291f9-c544-4475-b553-edaff47f8989",
   "metadata": {
    "scrolled": true
   },
   "outputs": [
    {
     "name": "stdout",
     "output_type": "stream",
     "text": [
      "skip event_log\n",
      "Data here: d:\\dropbox\\github_niskin\\DeepDOM\\data\\nutrients\n",
      "Data here: d:\\dropbox\\github_niskin\\DeepDOM\\data\\CTD\n",
      "Data here: d:\\dropbox\\github_niskin\\DeepDOM\\data\\viral_bact_counts\n",
      "Data here: d:\\dropbox\\github_niskin\\DeepDOM\\data\\metabolites_dissolved\n",
      "Data here: d:\\dropbox\\github_niskin\\DeepDOM\\data\\metabolites_particulate\n",
      "Data here: d:\\dropbox\\github_niskin\\DeepDOM\\data\\TOS\n",
      "skip deepdom_sample_metadata_for_opp\n"
     ]
    }
   ],
   "source": [
    "for idx in range(len(oneProject.resources)):\n",
    "    data_url = oneProject.resources[idx].path\n",
    "    if data_url.endswith('.csv'):\n",
    "        checkFile = re.split('/',data_url).pop().replace('.csv','')\n",
    "        #look for a match, a file to skip, or an error:\n",
    "        if checkFile in toSkip:\n",
    "            print('skip ' + checkFile)  \n",
    "        elif checkFile in discreteData:\n",
    "            %run convert.py {idx}   \n",
    "        else:\n",
    "            print('no match ' + checkFile)\n",
    "\n"
   ]
  },
  {
   "cell_type": "code",
   "execution_count": 114,
   "id": "b8984808-f5b3-4cfa-ab47-ed5b68a0e95a",
   "metadata": {},
   "outputs": [],
   "source": [
    "#I could not get this to work\n",
    "## %run SimonsCMAP_QCAPI.py"
   ]
  }
 ],
 "metadata": {
  "colab": {
   "provenance": []
  },
  "kernelspec": {
   "display_name": "Python 3 (ipykernel)",
   "language": "python",
   "name": "python3"
  },
  "language_info": {
   "codemirror_mode": {
    "name": "ipython",
    "version": 3
   },
   "file_extension": ".py",
   "mimetype": "text/x-python",
   "name": "python",
   "nbconvert_exporter": "python",
   "pygments_lexer": "ipython3",
   "version": "3.9.13"
  }
 },
 "nbformat": 4,
 "nbformat_minor": 5
}
